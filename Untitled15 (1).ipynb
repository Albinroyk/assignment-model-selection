{
  "nbformat": 4,
  "nbformat_minor": 0,
  "metadata": {
    "colab": {
      "provenance": []
    },
    "kernelspec": {
      "name": "python3",
      "display_name": "Python 3"
    },
    "language_info": {
      "name": "python"
    }
  },
  "cells": [
    {
      "cell_type": "code",
      "source": [
        "import pandas as pd\n",
        "from sklearn.model_selection import train_test_split, cross_val_score, KFold, StratifiedKFold\n",
        "from sklearn.preprocessing import LabelEncoder\n",
        "from sklearn.neighbors import KNeighborsClassifier\n",
        "from sklearn.svm import SVC\n",
        "\n",
        "# Load the dataset\n",
        "data = pd.read_csv('/content/titanic_dataset .csv')\n",
        "\n",
        "# Display the first few rows of the dataset\n",
        "print(\"First few rows of the dataset:\")\n",
        "print(data.head())\n",
        "\n",
        "# Pre-processing steps\n",
        "# Drop unnecessary columns\n",
        "data.drop(['PassengerId', 'Name', 'Ticket', 'Cabin'], axis=1, inplace=True)\n",
        "\n",
        "# Handling missing values\n",
        "data['Age'].fillna(data['Age'].mean(), inplace=True)\n",
        "data['Embarked'].fillna(data['Embarked'].mode()[0], inplace=True)\n",
        "\n",
        "# Encoding categorical variables\n",
        "label_encoder = LabelEncoder()\n",
        "data['Sex'] = label_encoder.fit_transform(data['Sex'])\n",
        "data['Embarked'] = label_encoder.fit_transform(data['Embarked'])\n",
        "\n",
        "# Splitting the data into features and target variable\n",
        "X = data.drop('Survived', axis=1)\n",
        "y = data['Survived']\n",
        "\n",
        "# Creating kNN and SVM models\n",
        "knn_model = KNeighborsClassifier()\n",
        "svm_model = SVC()\n",
        "\n",
        "# k-fold cross validation\n",
        "k_fold = KFold(n_splits=10, shuffle=True, random_state=42)\n",
        "knn_scores = cross_val_score(knn_model, X, y, cv=k_fold)\n",
        "svm_scores = cross_val_score(svm_model, X, y, cv=k_fold)\n",
        "\n",
        "print(\"Average accuracy score of kNN model:\", knn_scores.mean())\n",
        "print(\"Average accuracy score of SVM model:\", svm_scores.mean())\n",
        "\n",
        "# Stratified k-fold cross validation\n",
        "stratified_k_fold = StratifiedKFold(n_splits=10, shuffle=True, random_state=42)\n",
        "knn_strat_scores = cross_val_score(knn_model, X, y, cv=stratified_k_fold)\n",
        "svm_strat_scores = cross_val_score(svm_model, X, y, cv=stratified_k_fold)\n",
        "\n",
        "print(\"Average accuracy score of kNN model with stratified k-fold:\", knn_strat_scores.mean())\n",
        "print(\"Average accuracy score of SVM model with stratified k-fold:\", svm_strat_scores.mean())"
      ],
      "metadata": {
        "colab": {
          "base_uri": "https://localhost:8080/"
        },
        "id": "76YKCHYq7_mw",
        "outputId": "e8e0c8bb-f25b-45ab-ce59-4b565eb171be"
      },
      "execution_count": 2,
      "outputs": [
        {
          "output_type": "stream",
          "name": "stdout",
          "text": [
            "First few rows of the dataset:\n",
            "   PassengerId  Survived  Pclass  \\\n",
            "0            1         0       3   \n",
            "1            2         1       1   \n",
            "2            3         1       3   \n",
            "3            4         1       1   \n",
            "4            5         0       3   \n",
            "\n",
            "                                                Name     Sex   Age  SibSp  \\\n",
            "0                            Braund, Mr. Owen Harris    male  22.0      1   \n",
            "1  Cumings, Mrs. John Bradley (Florence Briggs Th...  female  38.0      1   \n",
            "2                             Heikkinen, Miss. Laina  female  26.0      0   \n",
            "3       Futrelle, Mrs. Jacques Heath (Lily May Peel)  female  35.0      1   \n",
            "4                           Allen, Mr. William Henry    male  35.0      0   \n",
            "\n",
            "   Parch            Ticket     Fare Cabin Embarked  \n",
            "0      0         A/5 21171   7.2500   NaN        S  \n",
            "1      0          PC 17599  71.2833   C85        C  \n",
            "2      0  STON/O2. 3101282   7.9250   NaN        S  \n",
            "3      0            113803  53.1000  C123        S  \n",
            "4      0            373450   8.0500   NaN        S  \n",
            "Average accuracy score of kNN model: 0.6991760299625469\n",
            "Average accuracy score of SVM model: 0.6767415730337079\n",
            "Average accuracy score of kNN model with stratified k-fold: 0.7025468164794008\n",
            "Average accuracy score of SVM model with stratified k-fold: 0.6789637952559302\n"
          ]
        }
      ]
    }
  ]
}